{
 "cells": [
  {
   "cell_type": "code",
   "execution_count": 1,
   "metadata": {},
   "outputs": [],
   "source": [
    "import requests\n",
    "from bs4 import BeautifulSoup\n",
    "\n",
    "html = requests.get(\"https://wuzzuf.net/search/jobs/?a=navbl&q=data%20science%20jobs&start=0\")\n",
    "soup = BeautifulSoup(html.text, 'html.parser')\n",
    "all_divs = soup.find_all('div', {'class':'css-pkv5jc'})"
   ]
  },
  {
   "cell_type": "code",
   "execution_count": 2,
   "metadata": {},
   "outputs": [],
   "source": [
    "title = all_divs[0].find('a', {'class':'css-o171kl'}).text.strip()\n",
    "link = 'https://wuzzuf.net' + all_divs[0].find('a', {'class':'css-o171kl'}).attrs['href'].strip()\n",
    "location = all_divs[0].find('span', {'class':'css-5wys0k'}).text.strip()\n",
    "\n",
    "descs = all_divs[0].find('div', {'class':\"css-y4udm8\"}).find_all('div')\n",
    "job_type = descs[0].text.strip()\n",
    "years = descs[1].text.split('·')[0].strip()\n",
    "skills = descs[1].text[len(descs[1].text.split('·')[0])+2:].strip()\n",
    "\n",
    "company_name = all_divs[-3].find('a', {'class':'css-17s97q8'}).text[:-2].strip()"
   ]
  },
  {
   "cell_type": "code",
   "execution_count": null,
   "metadata": {},
   "outputs": [
    {
     "name": "stdout",
     "output_type": "stream",
     "text": [
      "Scraping Page 0\n",
      "Scraping Page 1\n",
      "Scraping Page 2\n",
      "Scraping Page 3\n",
      "Scraping Page 4\n",
      "Scraping Page 5\n",
      "Scraping Page 6\n",
      "Scraping Page 7\n",
      "Scraping Page 8\n",
      "Scraping Page 9\n",
      "Scraping Page 10\n",
      "Scraping Page 11\n",
      "Scraping Page 12\n",
      "Scraping Page 13\n",
      "Scraping Page 14\n",
      "Scraping Page 15\n",
      "Scraping Page 16\n",
      "Scraping Page 17\n",
      "Scraping Page 18\n",
      "Scraping Page 19\n",
      "Scraping Page 20\n",
      "Scraping Page 21\n",
      "Scraping Page 22\n",
      "Scraping Page 23\n",
      "Scraping Page 24\n",
      "Scraping Page 25\n",
      "Scraping Page 26\n",
      "Scraping Page 27\n",
      "Scraping Page 28\n",
      "Scraping Page 29\n",
      "Scraping Page 30\n",
      "Scraping Page 31\n",
      "Scraping Page 32\n",
      "Scraping Page 33\n",
      "Scraping Page 34\n",
      "Scraping Page 35\n",
      "Scraping Page 36\n",
      "Scraping Page 37\n",
      "Scraping Page 38\n",
      "Scraping Page 39\n",
      "Scraping Page 40\n",
      "Scraping Page 41\n",
      "Scraping Page 42\n",
      "Scraping Page 43\n",
      "Scraping Page 44\n",
      "Scraping Page 45\n",
      "Scraping Page 46\n",
      "Scraping Page 47\n",
      "Scraping Page 48\n",
      "Scraping Page 49\n",
      "Scraping Page 50\n",
      "Scraping Page 51\n",
      "Scraping Page 52\n",
      "Scraping Page 53\n",
      "Scraping Page 54\n"
     ]
    }
   ],
   "source": [
    "all_data = []\n",
    "page = 0\n",
    "\n",
    "while True:\n",
    "    html = requests.get(f\"https://wuzzuf.net/search/jobs/?a=navbl&q=data%20science%20jobs&start={page}\")\n",
    "    soup = BeautifulSoup(html.text, 'html.parser')\n",
    "        \n",
    "    all_divs = soup.find_all('div', {'class':'css-pkv5jc'})\n",
    "    if len(all_divs) == 0:\n",
    "        print(\"Finished\")\n",
    "        break\n",
    "        \n",
    "    for div in all_divs:\n",
    "        title = div.find('a', {'class':'css-o171kl'}).text.strip()\n",
    "        link = 'https://wuzzuf.net' + div.find('a', {'class':'css-o171kl'}).attrs['href'].strip()\n",
    "        location = div.find('span', {'class':'css-5wys0k'}).text.strip()\n",
    "\n",
    "        descs = div.find('div', {'class':\"css-y4udm8\"}).find_all('div')\n",
    "        job_type = descs[0].text.strip()\n",
    "        years = descs[1].text.split('·')[0].strip()\n",
    "        skills = descs[1].text[len(descs[1].text.split('·')[0])+2:].strip()\n",
    "\n",
    "        company_name = div.find('a', {'class':'css-17s97q8'}).text[:-2].strip()\n",
    "        all_data.append([title, link, location, job_type, years, skills, company_name])\n",
    "    \n",
    "    print(f\"Scraping Page {page}\")\n",
    "    page += 1"
   ]
  },
  {
   "cell_type": "code",
   "execution_count": null,
   "metadata": {},
   "outputs": [],
   "source": [
    "import csv\n",
    "\n",
    "with open(\"jobs.csv\", mode='w', encoding='utf-8', newline='') as f:\n",
    "    writer = csv.writer(f)\n",
    "    writer.writerow(['title', 'link', 'location', 'job type', 'years', 'skills', 'company name'])\n",
    "    writer.writerows(all_data)\n",
    "    \n",
    "import pandas as pd\n",
    "df = pd.read_csv(\"jobs.csv\")\n",
    "df"
   ]
  },
  {
   "cell_type": "code",
   "execution_count": null,
   "metadata": {},
   "outputs": [],
   "source": []
  }
 ],
 "metadata": {
  "kernelspec": {
   "display_name": "Python 3",
   "language": "python",
   "name": "python3"
  },
  "language_info": {
   "codemirror_mode": {
    "name": "ipython",
    "version": 3
   },
   "file_extension": ".py",
   "mimetype": "text/x-python",
   "name": "python",
   "nbconvert_exporter": "python",
   "pygments_lexer": "ipython3",
   "version": "3.7.6"
  }
 },
 "nbformat": 4,
 "nbformat_minor": 4
}
